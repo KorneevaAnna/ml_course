{
 "cells": [
  {
   "cell_type": "markdown",
   "metadata": {
    "id": "VRmG0UNR_inG"
   },
   "source": [
    "### Лабораторная работа №4: \"Создание рекомендательной модели\"\n",
    "#### ИУ5-23 Корнеева Анна\n",
    "#### Задание:\n",
    "* Выбрать произвольный набор данных, предназначенный для построения рекомендательных моделей;\n",
    "* Опираясь на материалы лекции, сформировать рекомендации для одного пользователя (объекта) двумя произвольными способами;\n",
    "* Сравнить полученные рекомендации (если это возможно, то с применением метрик)."
   ]
  },
  {
   "cell_type": "code",
   "execution_count": 1,
   "metadata": {
    "colab": {
     "base_uri": "https://localhost:8080/"
    },
    "executionInfo": {
     "elapsed": 20209,
     "status": "ok",
     "timestamp": 1621148932959,
     "user": {
      "displayName": "Sasha Kurganova",
      "photoUrl": "https://lh3.googleusercontent.com/a-/AOh14GiSJJ9sBMDvTOa9RqZDxXruhgQHi8i9eqj-0dxOcw=s64",
      "userId": "06976869838572069954"
     },
     "user_tz": -180
    },
    "id": "ubJ_j0lc9-As",
    "outputId": "03b80970-4dce-4db2-bc1c-ada821d08e13"
   },
   "outputs": [
    {
     "name": "stdout",
     "output_type": "stream",
     "text": [
      "Mounted at /content/drive\n"
     ]
    }
   ],
   "source": [
    "from google.colab import drive\n",
    "drive.mount('/content/drive', force_remount=True)\n",
    "path = \"/content/drive/My Drive/Colab Notebooks/ммо/lr4\""
   ]
  },
  {
   "cell_type": "code",
   "execution_count": 4,
   "metadata": {
    "colab": {
     "base_uri": "https://localhost:8080/"
    },
    "executionInfo": {
     "elapsed": 36149,
     "status": "ok",
     "timestamp": 1621149087165,
     "user": {
      "displayName": "Sasha Kurganova",
      "photoUrl": "https://lh3.googleusercontent.com/a-/AOh14GiSJJ9sBMDvTOa9RqZDxXruhgQHi8i9eqj-0dxOcw=s64",
      "userId": "06976869838572069954"
     },
     "user_tz": -180
    },
    "id": "wMMILm22AzSc",
    "outputId": "02bab38d-9b45-4c1d-d433-20a6e826f56a"
   },
   "outputs": [
    {
     "name": "stdout",
     "output_type": "stream",
     "text": [
      "Collecting surprise\n",
      "  Downloading https://files.pythonhosted.org/packages/61/de/e5cba8682201fcf9c3719a6fdda95693468ed061945493dea2dd37c5618b/surprise-0.1-py2.py3-none-any.whl\n",
      "Collecting scikit-surprise\n",
      "\u001b[?25l  Downloading https://files.pythonhosted.org/packages/97/37/5d334adaf5ddd65da99fc65f6507e0e4599d092ba048f4302fe8775619e8/scikit-surprise-1.1.1.tar.gz (11.8MB)\n",
      "\u001b[K     |████████████████████████████████| 11.8MB 6.5MB/s \n",
      "\u001b[?25hRequirement already satisfied: joblib>=0.11 in /usr/local/lib/python3.7/dist-packages (from scikit-surprise->surprise) (1.0.1)\n",
      "Requirement already satisfied: numpy>=1.11.2 in /usr/local/lib/python3.7/dist-packages (from scikit-surprise->surprise) (1.19.5)\n",
      "Requirement already satisfied: scipy>=1.0.0 in /usr/local/lib/python3.7/dist-packages (from scikit-surprise->surprise) (1.4.1)\n",
      "Requirement already satisfied: six>=1.10.0 in /usr/local/lib/python3.7/dist-packages (from scikit-surprise->surprise) (1.15.0)\n",
      "Building wheels for collected packages: scikit-surprise\n",
      "  Building wheel for scikit-surprise (setup.py) ... \u001b[?25l\u001b[?25hdone\n",
      "  Created wheel for scikit-surprise: filename=scikit_surprise-1.1.1-cp37-cp37m-linux_x86_64.whl size=1617599 sha256=26feb73a3112b00f99ef704f33db27db3eb8005aeb7c0b99d0718118689c84d5\n",
      "  Stored in directory: /root/.cache/pip/wheels/78/9c/3d/41b419c9d2aff5b6e2b4c0fc8d25c538202834058f9ed110d0\n",
      "Successfully built scikit-surprise\n",
      "Installing collected packages: scikit-surprise, surprise\n",
      "Successfully installed scikit-surprise-1.1.1 surprise-0.1\n"
     ]
    }
   ],
   "source": [
    "!pip install surprise"
   ]
  },
  {
   "cell_type": "code",
   "execution_count": 5,
   "metadata": {
    "executionInfo": {
     "elapsed": 576,
     "status": "ok",
     "timestamp": 1621149091131,
     "user": {
      "displayName": "Sasha Kurganova",
      "photoUrl": "https://lh3.googleusercontent.com/a-/AOh14GiSJJ9sBMDvTOa9RqZDxXruhgQHi8i9eqj-0dxOcw=s64",
      "userId": "06976869838572069954"
     },
     "user_tz": -180
    },
    "id": "QBIZvRBwAfEM"
   },
   "outputs": [],
   "source": [
    "import numpy as np\n",
    "import pandas as pd\n",
    "from typing import Dict, Tuple\n",
    "from scipy import stats\n",
    "from sklearn.feature_extraction.text import CountVectorizer, TfidfVectorizer\n",
    "from sklearn.neighbors import KNeighborsRegressor, KNeighborsClassifier\n",
    "from sklearn.model_selection import GridSearchCV, RandomizedSearchCV\n",
    "from sklearn.metrics import confusion_matrix\n",
    "from sklearn.metrics.pairwise import cosine_similarity, euclidean_distances, manhattan_distances\n",
    "from surprise import SVD, Dataset, Reader\n",
    "import seaborn as sns\n",
    "import matplotlib.pyplot as plt\n",
    "from matplotlib_venn import venn2\n",
    "%matplotlib inline \n",
    "sns.set(style=\"ticks\")"
   ]
  },
  {
   "cell_type": "code",
   "execution_count": 9,
   "metadata": {
    "executionInfo": {
     "elapsed": 974,
     "status": "ok",
     "timestamp": 1621149130957,
     "user": {
      "displayName": "Sasha Kurganova",
      "photoUrl": "https://lh3.googleusercontent.com/a-/AOh14GiSJJ9sBMDvTOa9RqZDxXruhgQHi8i9eqj-0dxOcw=s64",
      "userId": "06976869838572069954"
     },
     "user_tz": -180
    },
    "id": "VyMIEJR2Afof"
   },
   "outputs": [],
   "source": [
    "data = pd.read_csv(path + '/Final_Dataframe.csv', sep=\",\")"
   ]
  },
  {
   "cell_type": "code",
   "execution_count": 10,
   "metadata": {
    "colab": {
     "base_uri": "https://localhost:8080/"
    },
    "executionInfo": {
     "elapsed": 576,
     "status": "ok",
     "timestamp": 1621149141389,
     "user": {
      "displayName": "Sasha Kurganova",
      "photoUrl": "https://lh3.googleusercontent.com/a-/AOh14GiSJJ9sBMDvTOa9RqZDxXruhgQHi8i9eqj-0dxOcw=s64",
      "userId": "06976869838572069954"
     },
     "user_tz": -180
    },
    "id": "zE2fSYXbBEnl",
    "outputId": "126c3cf1-0d25-4196-a048-2a013fe08047"
   },
   "outputs": [
    {
     "data": {
      "text/plain": [
       "(205, 9)"
      ]
     },
     "execution_count": 10,
     "metadata": {
      "tags": []
     },
     "output_type": "execute_result"
    }
   ],
   "source": [
    "data.shape"
   ]
  },
  {
   "cell_type": "code",
   "execution_count": 11,
   "metadata": {
    "colab": {
     "base_uri": "https://localhost:8080/",
     "height": 204
    },
    "executionInfo": {
     "elapsed": 557,
     "status": "ok",
     "timestamp": 1621149149318,
     "user": {
      "displayName": "Sasha Kurganova",
      "photoUrl": "https://lh3.googleusercontent.com/a-/AOh14GiSJJ9sBMDvTOa9RqZDxXruhgQHi8i9eqj-0dxOcw=s64",
      "userId": "06976869838572069954"
     },
     "user_tz": -180
    },
    "id": "P4rGOi0cBMcg",
    "outputId": "c835b977-7e4a-42fc-920e-62d1c7125def"
   },
   "outputs": [
    {
     "data": {
      "text/html": [
       "<div>\n",
       "<style scoped>\n",
       "    .dataframe tbody tr th:only-of-type {\n",
       "        vertical-align: middle;\n",
       "    }\n",
       "\n",
       "    .dataframe tbody tr th {\n",
       "        vertical-align: top;\n",
       "    }\n",
       "\n",
       "    .dataframe thead th {\n",
       "        text-align: right;\n",
       "    }\n",
       "</style>\n",
       "<table border=\"1\" class=\"dataframe\">\n",
       "  <thead>\n",
       "    <tr style=\"text-align: right;\">\n",
       "      <th></th>\n",
       "      <th>brand</th>\n",
       "      <th>laptop_name</th>\n",
       "      <th>display_size</th>\n",
       "      <th>processor_type</th>\n",
       "      <th>graphics_card</th>\n",
       "      <th>disk_space</th>\n",
       "      <th>discount_price</th>\n",
       "      <th>old_price</th>\n",
       "      <th>ratings_5max</th>\n",
       "    </tr>\n",
       "  </thead>\n",
       "  <tbody>\n",
       "    <tr>\n",
       "      <th>0</th>\n",
       "      <td>HP</td>\n",
       "      <td>Notebook 14-df0008nx</td>\n",
       "      <td>14.0</td>\n",
       "      <td>Intel Celeron N4000</td>\n",
       "      <td>Intel HD Graphics 600</td>\n",
       "      <td>64 GB (eMMC)</td>\n",
       "      <td>1259.0</td>\n",
       "      <td>1259.0</td>\n",
       "      <td>0 / 5</td>\n",
       "    </tr>\n",
       "    <tr>\n",
       "      <th>1</th>\n",
       "      <td>Lenovo</td>\n",
       "      <td>IdeaPad 330S-14IKB</td>\n",
       "      <td>14.0</td>\n",
       "      <td>Intel Core i5-8250U</td>\n",
       "      <td>Intel UHD Graphics 620</td>\n",
       "      <td>1 TB HDD</td>\n",
       "      <td>1849.0</td>\n",
       "      <td>2099.0</td>\n",
       "      <td>3.3 / 5</td>\n",
       "    </tr>\n",
       "    <tr>\n",
       "      <th>2</th>\n",
       "      <td>Huawei</td>\n",
       "      <td>MateBook D Volta</td>\n",
       "      <td>14.0</td>\n",
       "      <td>Intel Core i5-8250U</td>\n",
       "      <td>NVIDIA GeForce MX150 (2 GB)</td>\n",
       "      <td>256 GB SSD</td>\n",
       "      <td>2999.0</td>\n",
       "      <td>3799.0</td>\n",
       "      <td>0 / 5</td>\n",
       "    </tr>\n",
       "    <tr>\n",
       "      <th>3</th>\n",
       "      <td>Dell</td>\n",
       "      <td>Inspiron 15 3567</td>\n",
       "      <td>15.6</td>\n",
       "      <td>Intel Core i3-7020U</td>\n",
       "      <td>Intel HD Graphics 620</td>\n",
       "      <td>1 TB HDD</td>\n",
       "      <td>1849.0</td>\n",
       "      <td>1849.0</td>\n",
       "      <td>0 / 5</td>\n",
       "    </tr>\n",
       "    <tr>\n",
       "      <th>4</th>\n",
       "      <td>Asus</td>\n",
       "      <td>VivoBook 15 X510UR</td>\n",
       "      <td>15.6</td>\n",
       "      <td>Intel Core i7-8550U</td>\n",
       "      <td>NVIDIA GeForce 930MX (2 GB)</td>\n",
       "      <td>1 TB HDD</td>\n",
       "      <td>2499.0</td>\n",
       "      <td>3149.0</td>\n",
       "      <td>0 / 5</td>\n",
       "    </tr>\n",
       "  </tbody>\n",
       "</table>\n",
       "</div>"
      ],
      "text/plain": [
       "    brand           laptop_name  ...  old_price ratings_5max\n",
       "0      HP  Notebook 14-df0008nx  ...     1259.0        0 / 5\n",
       "1  Lenovo    IdeaPad 330S-14IKB  ...     2099.0      3.3 / 5\n",
       "2  Huawei      MateBook D Volta  ...     3799.0        0 / 5\n",
       "3    Dell      Inspiron 15 3567  ...     1849.0        0 / 5\n",
       "4    Asus    VivoBook 15 X510UR  ...     3149.0        0 / 5\n",
       "\n",
       "[5 rows x 9 columns]"
      ]
     },
     "execution_count": 11,
     "metadata": {
      "tags": []
     },
     "output_type": "execute_result"
    }
   ],
   "source": [
    "data.head()"
   ]
  },
  {
   "cell_type": "code",
   "execution_count": 12,
   "metadata": {
    "colab": {
     "base_uri": "https://localhost:8080/"
    },
    "executionInfo": {
     "elapsed": 784,
     "status": "ok",
     "timestamp": 1621149159300,
     "user": {
      "displayName": "Sasha Kurganova",
      "photoUrl": "https://lh3.googleusercontent.com/a-/AOh14GiSJJ9sBMDvTOa9RqZDxXruhgQHi8i9eqj-0dxOcw=s64",
      "userId": "06976869838572069954"
     },
     "user_tz": -180
    },
    "id": "bfX9doeUBOYq",
    "outputId": "4beb5f77-1f90-4317-e17d-9de4b3c79383"
   },
   "outputs": [
    {
     "data": {
      "text/plain": [
       "['laptop_name']"
      ]
     },
     "execution_count": 12,
     "metadata": {
      "tags": []
     },
     "output_type": "execute_result"
    }
   ],
   "source": [
    "# Колонки с пропусками\n",
    "hcols_with_na = [c for c in data.columns if data[c].isnull().sum() > 0]\n",
    "hcols_with_na"
   ]
  },
  {
   "cell_type": "code",
   "execution_count": 13,
   "metadata": {
    "executionInfo": {
     "elapsed": 563,
     "status": "ok",
     "timestamp": 1621149174340,
     "user": {
      "displayName": "Sasha Kurganova",
      "photoUrl": "https://lh3.googleusercontent.com/a-/AOh14GiSJJ9sBMDvTOa9RqZDxXruhgQHi8i9eqj-0dxOcw=s64",
      "userId": "06976869838572069954"
     },
     "user_tz": -180
    },
    "id": "hYdq1F7oBQxE"
   },
   "outputs": [],
   "source": [
    "# У бренда HP отсутствует laptop_name\n",
    "df = data[data['laptop_name'].notnull()]\n",
    "df = df[~df['laptop_name'].str.isspace()]"
   ]
  },
  {
   "cell_type": "code",
   "execution_count": 14,
   "metadata": {
    "colab": {
     "base_uri": "https://localhost:8080/"
    },
    "executionInfo": {
     "elapsed": 575,
     "status": "ok",
     "timestamp": 1621149199592,
     "user": {
      "displayName": "Sasha Kurganova",
      "photoUrl": "https://lh3.googleusercontent.com/a-/AOh14GiSJJ9sBMDvTOa9RqZDxXruhgQHi8i9eqj-0dxOcw=s64",
      "userId": "06976869838572069954"
     },
     "user_tz": -180
    },
    "id": "BTpO69iYBUff",
    "outputId": "8d96ad5c-e64f-4517-ddc7-f18f45ecffec"
   },
   "outputs": [
    {
     "data": {
      "text/plain": [
       "array(['HP', 'Lenovo', 'Huawei', 'Dell', 'Asus'], dtype=object)"
      ]
     },
     "execution_count": 14,
     "metadata": {
      "tags": []
     },
     "output_type": "execute_result"
    }
   ],
   "source": [
    "brand= df['brand'].values\n",
    "brand[0:5]"
   ]
  },
  {
   "cell_type": "code",
   "execution_count": 15,
   "metadata": {
    "colab": {
     "base_uri": "https://localhost:8080/"
    },
    "executionInfo": {
     "elapsed": 560,
     "status": "ok",
     "timestamp": 1621149215858,
     "user": {
      "displayName": "Sasha Kurganova",
      "photoUrl": "https://lh3.googleusercontent.com/a-/AOh14GiSJJ9sBMDvTOa9RqZDxXruhgQHi8i9eqj-0dxOcw=s64",
      "userId": "06976869838572069954"
     },
     "user_tz": -180
    },
    "id": "gLtFQ0KlBap6",
    "outputId": "2bb29b8b-8fc5-4482-86a3-260619e3933b"
   },
   "outputs": [
    {
     "data": {
      "text/plain": [
       "array(['Notebook 14-df0008nx', 'IdeaPad 330S-14IKB', 'MateBook D Volta',\n",
       "       'Inspiron 15 3567', 'VivoBook 15 X510UR'], dtype=object)"
      ]
     },
     "execution_count": 15,
     "metadata": {
      "tags": []
     },
     "output_type": "execute_result"
    }
   ],
   "source": [
    "laptop_name= df['laptop_name'].values\n",
    "laptop_name[0:5]"
   ]
  },
  {
   "cell_type": "code",
   "execution_count": 16,
   "metadata": {
    "colab": {
     "base_uri": "https://localhost:8080/"
    },
    "executionInfo": {
     "elapsed": 561,
     "status": "ok",
     "timestamp": 1621149223893,
     "user": {
      "displayName": "Sasha Kurganova",
      "photoUrl": "https://lh3.googleusercontent.com/a-/AOh14GiSJJ9sBMDvTOa9RqZDxXruhgQHi8i9eqj-0dxOcw=s64",
      "userId": "06976869838572069954"
     },
     "user_tz": -180
    },
    "id": "6-kqlpYhBeoT",
    "outputId": "e062f3c5-6460-423f-be86-b68aaba4e48e"
   },
   "outputs": [
    {
     "data": {
      "text/plain": [
       "array([' Intel Celeron N4000', ' Intel Core i5-8250U',\n",
       "       ' Intel Core i5-8250U', ' Intel Core i3-7020U',\n",
       "       ' Intel Core i7-8550U'], dtype=object)"
      ]
     },
     "execution_count": 16,
     "metadata": {
      "tags": []
     },
     "output_type": "execute_result"
    }
   ],
   "source": [
    "processor_type = df['processor_type'].values\n",
    "processor_type[0:5]"
   ]
  },
  {
   "cell_type": "code",
   "execution_count": 17,
   "metadata": {
    "colab": {
     "base_uri": "https://localhost:8080/"
    },
    "executionInfo": {
     "elapsed": 596,
     "status": "ok",
     "timestamp": 1621149232499,
     "user": {
      "displayName": "Sasha Kurganova",
      "photoUrl": "https://lh3.googleusercontent.com/a-/AOh14GiSJJ9sBMDvTOa9RqZDxXruhgQHi8i9eqj-0dxOcw=s64",
      "userId": "06976869838572069954"
     },
     "user_tz": -180
    },
    "id": "EKipI0HVBgl1",
    "outputId": "c1761bc0-c80a-4a5e-9d2b-4f78ea0ad5f7"
   },
   "outputs": [
    {
     "name": "stdout",
     "output_type": "stream",
     "text": [
      "CPU times: user 5.17 ms, sys: 1.78 ms, total: 6.95 ms\n",
      "Wall time: 23.8 ms\n"
     ]
    }
   ],
   "source": [
    "%%time\n",
    "tfidfv = TfidfVectorizer()\n",
    "matrix = tfidfv.fit_transform(laptop_name)\n",
    "matrix"
   ]
  },
  {
   "cell_type": "code",
   "execution_count": 18,
   "metadata": {
    "executionInfo": {
     "elapsed": 583,
     "status": "ok",
     "timestamp": 1621149250424,
     "user": {
      "displayName": "Sasha Kurganova",
      "photoUrl": "https://lh3.googleusercontent.com/a-/AOh14GiSJJ9sBMDvTOa9RqZDxXruhgQHi8i9eqj-0dxOcw=s64",
      "userId": "06976869838572069954"
     },
     "user_tz": -180
    },
    "id": "03U9KuAdBir0"
   },
   "outputs": [],
   "source": [
    "# класс для формирования рекомендаций на основе метода ближайших соседей\n",
    "class SimpleKNNRecommender:\n",
    "    \n",
    "    def __init__(self, X_matrix, X_brand, X_laptop_name, X_processor_type):\n",
    "        \"\"\"\n",
    "        Входные параметры:\n",
    "        X_matrix - обучающая выборка (матрица объект-признак)\n",
    "        \"\"\"\n",
    "        #Сохраняем параметры в переменных объекта\n",
    "        self._X_matrix = X_matrix\n",
    "        self.df = pd.DataFrame(\n",
    "            {'brand': pd.Series(X_brand, dtype='str'),\n",
    "            'laptop_name': pd.Series(X_laptop_name, dtype='str'),\n",
    "            'processor_type': pd.Series(X_processor_type, dtype='str'),\n",
    "            'dist': pd.Series([], dtype='float')})\n",
    "            \n",
    "            \n",
    "    def recommend_for_single_object(self, K: int, \\\n",
    "                X_matrix_object, cos_flag = True, manh_flag = False):\n",
    "        \"\"\"\n",
    "        Метод формирования рекомендаций для одного объекта.\n",
    "        Входные параметры:\n",
    "        K - количество рекомендуемых соседей \n",
    "        X_matrix_object - строка матрицы объект-признак, соответствующая объекту\n",
    "        cos_flag - флаг вычисления косинусного расстояния\n",
    "        manh_flag - флаг вычисления манхэттэнского расстояния\n",
    "        Возвращаемое значение: K найденных соседей\n",
    "        \"\"\"\n",
    "        \n",
    "        scale = 1000000\n",
    "        # Вычисляем косинусную близость\n",
    "        if cos_flag:\n",
    "            dist = cosine_similarity(self._X_matrix, X_matrix_object)\n",
    "            self.df['dist'] = dist * scale\n",
    "            res = self.df.sort_values(by='dist', ascending=False)\n",
    "            # Не учитываем рекомендации с единичным расстоянием,\n",
    "            # так как это искомый объект\n",
    "            res = res[res['dist'] < scale]\n",
    "        \n",
    "        else:\n",
    "            if manh_flag:\n",
    "                dist = manhattan_distances(self._X_matrix, X_matrix_object)\n",
    "            else:\n",
    "                dist = euclidean_distances(self._X_matrix, X_matrix_object)\n",
    "            self.df['dist'] = dist * scale\n",
    "            res = self.df.sort_values(by='dist', ascending=True)\n",
    "            # Не учитываем рекомендации с единичным расстоянием,\n",
    "            # так как это искомый объект\n",
    "            res = res[res['dist'] > 0.0]            \n",
    "        \n",
    "        # Оставляем К первых рекомендаций\n",
    "        res = res.head(K)\n",
    "        return res"
   ]
  },
  {
   "cell_type": "code",
   "execution_count": 19,
   "metadata": {
    "colab": {
     "base_uri": "https://localhost:8080/",
     "height": 35
    },
    "executionInfo": {
     "elapsed": 587,
     "status": "ok",
     "timestamp": 1621149258734,
     "user": {
      "displayName": "Sasha Kurganova",
      "photoUrl": "https://lh3.googleusercontent.com/a-/AOh14GiSJJ9sBMDvTOa9RqZDxXruhgQHi8i9eqj-0dxOcw=s64",
      "userId": "06976869838572069954"
     },
     "user_tz": -180
    },
    "id": "iY9KqNRMBnEB",
    "outputId": "147599f0-229c-4949-9662-6679a3786586"
   },
   "outputs": [
    {
     "data": {
      "application/vnd.google.colaboratory.intrinsic+json": {
       "type": "string"
      },
      "text/plain": [
       "'Notebook 14-df0008nx'"
      ]
     },
     "execution_count": 19,
     "metadata": {
      "tags": []
     },
     "output_type": "execute_result"
    }
   ],
   "source": [
    "laptop_name[0]"
   ]
  },
  {
   "cell_type": "code",
   "execution_count": 20,
   "metadata": {
    "colab": {
     "base_uri": "https://localhost:8080/"
    },
    "executionInfo": {
     "elapsed": 678,
     "status": "ok",
     "timestamp": 1621149269095,
     "user": {
      "displayName": "Sasha Kurganova",
      "photoUrl": "https://lh3.googleusercontent.com/a-/AOh14GiSJJ9sBMDvTOa9RqZDxXruhgQHi8i9eqj-0dxOcw=s64",
      "userId": "06976869838572069954"
     },
     "user_tz": -180
    },
    "id": "0JxdvyJtBpFw",
    "outputId": "219182cf-f344-4655-9d07-c0c89fb3c7da"
   },
   "outputs": [
    {
     "data": {
      "text/plain": [
       "<1x163 sparse matrix of type '<class 'numpy.float64'>'\n",
       "\twith 3 stored elements in Compressed Sparse Row format>"
      ]
     },
     "execution_count": 20,
     "metadata": {
      "tags": []
     },
     "output_type": "execute_result"
    }
   ],
   "source": [
    "mc_matrix = matrix[0]\n",
    "mc_matrix"
   ]
  },
  {
   "cell_type": "code",
   "execution_count": 21,
   "metadata": {
    "executionInfo": {
     "elapsed": 640,
     "status": "ok",
     "timestamp": 1621149278721,
     "user": {
      "displayName": "Sasha Kurganova",
      "photoUrl": "https://lh3.googleusercontent.com/a-/AOh14GiSJJ9sBMDvTOa9RqZDxXruhgQHi8i9eqj-0dxOcw=s64",
      "userId": "06976869838572069954"
     },
     "user_tz": -180
    },
    "id": "SAUAMVBtBrmS"
   },
   "outputs": [],
   "source": [
    "skr1 = SimpleKNNRecommender(matrix, brand, laptop_name, processor_type)"
   ]
  },
  {
   "cell_type": "code",
   "execution_count": 22,
   "metadata": {
    "colab": {
     "base_uri": "https://localhost:8080/",
     "height": 204
    },
    "executionInfo": {
     "elapsed": 650,
     "status": "ok",
     "timestamp": 1621149286340,
     "user": {
      "displayName": "Sasha Kurganova",
      "photoUrl": "https://lh3.googleusercontent.com/a-/AOh14GiSJJ9sBMDvTOa9RqZDxXruhgQHi8i9eqj-0dxOcw=s64",
      "userId": "06976869838572069954"
     },
     "user_tz": -180
    },
    "id": "igtJVb_ABt9Q",
    "outputId": "24dc9698-5088-4aec-c9bc-f24b1d49743d"
   },
   "outputs": [
    {
     "data": {
      "text/html": [
       "<div>\n",
       "<style scoped>\n",
       "    .dataframe tbody tr th:only-of-type {\n",
       "        vertical-align: middle;\n",
       "    }\n",
       "\n",
       "    .dataframe tbody tr th {\n",
       "        vertical-align: top;\n",
       "    }\n",
       "\n",
       "    .dataframe thead th {\n",
       "        text-align: right;\n",
       "    }\n",
       "</style>\n",
       "<table border=\"1\" class=\"dataframe\">\n",
       "  <thead>\n",
       "    <tr style=\"text-align: right;\">\n",
       "      <th></th>\n",
       "      <th>brand</th>\n",
       "      <th>laptop_name</th>\n",
       "      <th>processor_type</th>\n",
       "      <th>dist</th>\n",
       "    </tr>\n",
       "  </thead>\n",
       "  <tbody>\n",
       "    <tr>\n",
       "      <th>65</th>\n",
       "      <td>HP</td>\n",
       "      <td>14-cf1001nx</td>\n",
       "      <td>Intel Core i5-8265U</td>\n",
       "      <td>196183.401727</td>\n",
       "    </tr>\n",
       "    <tr>\n",
       "      <th>163</th>\n",
       "      <td>HP</td>\n",
       "      <td>14-bp101nx</td>\n",
       "      <td>Intel Core i5-8250U</td>\n",
       "      <td>196183.401727</td>\n",
       "    </tr>\n",
       "    <tr>\n",
       "      <th>165</th>\n",
       "      <td>HP</td>\n",
       "      <td>14-ck0008nx</td>\n",
       "      <td>Intel Celeron N4000</td>\n",
       "      <td>196183.401727</td>\n",
       "    </tr>\n",
       "    <tr>\n",
       "      <th>9</th>\n",
       "      <td>HP</td>\n",
       "      <td>14-cf0007nx</td>\n",
       "      <td>Intel Core i5-8250U</td>\n",
       "      <td>196183.401727</td>\n",
       "    </tr>\n",
       "    <tr>\n",
       "      <th>130</th>\n",
       "      <td>Dell</td>\n",
       "      <td>Inspiron 14 5480</td>\n",
       "      <td>Intel Core i7-8565U</td>\n",
       "      <td>174852.637832</td>\n",
       "    </tr>\n",
       "  </tbody>\n",
       "</table>\n",
       "</div>"
      ],
      "text/plain": [
       "    brand       laptop_name        processor_type           dist\n",
       "65     HP       14-cf1001nx   Intel Core i5-8265U  196183.401727\n",
       "163    HP        14-bp101nx   Intel Core i5-8250U  196183.401727\n",
       "165    HP       14-ck0008nx   Intel Celeron N4000  196183.401727\n",
       "9      HP       14-cf0007nx   Intel Core i5-8250U  196183.401727\n",
       "130  Dell  Inspiron 14 5480   Intel Core i7-8565U  174852.637832"
      ]
     },
     "execution_count": 22,
     "metadata": {
      "tags": []
     },
     "output_type": "execute_result"
    }
   ],
   "source": [
    "# 5 моделей похожих на Notebook 14-df0008nx\n",
    "rec1 = skr1.recommend_for_single_object(5, mc_matrix)\n",
    "rec1"
   ]
  },
  {
   "cell_type": "code",
   "execution_count": 23,
   "metadata": {
    "colab": {
     "base_uri": "https://localhost:8080/",
     "height": 204
    },
    "executionInfo": {
     "elapsed": 571,
     "status": "ok",
     "timestamp": 1621149295361,
     "user": {
      "displayName": "Sasha Kurganova",
      "photoUrl": "https://lh3.googleusercontent.com/a-/AOh14GiSJJ9sBMDvTOa9RqZDxXruhgQHi8i9eqj-0dxOcw=s64",
      "userId": "06976869838572069954"
     },
     "user_tz": -180
    },
    "id": "YFNFRvS0Bv0K",
    "outputId": "9aecca07-20b7-4e5d-9091-365632ae0571"
   },
   "outputs": [
    {
     "data": {
      "text/html": [
       "<div>\n",
       "<style scoped>\n",
       "    .dataframe tbody tr th:only-of-type {\n",
       "        vertical-align: middle;\n",
       "    }\n",
       "\n",
       "    .dataframe tbody tr th {\n",
       "        vertical-align: top;\n",
       "    }\n",
       "\n",
       "    .dataframe thead th {\n",
       "        text-align: right;\n",
       "    }\n",
       "</style>\n",
       "<table border=\"1\" class=\"dataframe\">\n",
       "  <thead>\n",
       "    <tr style=\"text-align: right;\">\n",
       "      <th></th>\n",
       "      <th>brand</th>\n",
       "      <th>laptop_name</th>\n",
       "      <th>processor_type</th>\n",
       "      <th>dist</th>\n",
       "    </tr>\n",
       "  </thead>\n",
       "  <tbody>\n",
       "    <tr>\n",
       "      <th>165</th>\n",
       "      <td>HP</td>\n",
       "      <td>14-ck0008nx</td>\n",
       "      <td>Intel Celeron N4000</td>\n",
       "      <td>1.267925e+06</td>\n",
       "    </tr>\n",
       "    <tr>\n",
       "      <th>163</th>\n",
       "      <td>HP</td>\n",
       "      <td>14-bp101nx</td>\n",
       "      <td>Intel Core i5-8250U</td>\n",
       "      <td>1.267925e+06</td>\n",
       "    </tr>\n",
       "    <tr>\n",
       "      <th>9</th>\n",
       "      <td>HP</td>\n",
       "      <td>14-cf0007nx</td>\n",
       "      <td>Intel Core i5-8250U</td>\n",
       "      <td>1.267925e+06</td>\n",
       "    </tr>\n",
       "    <tr>\n",
       "      <th>65</th>\n",
       "      <td>HP</td>\n",
       "      <td>14-cf1001nx</td>\n",
       "      <td>Intel Core i5-8265U</td>\n",
       "      <td>1.267925e+06</td>\n",
       "    </tr>\n",
       "    <tr>\n",
       "      <th>130</th>\n",
       "      <td>Dell</td>\n",
       "      <td>Inspiron 14 5480</td>\n",
       "      <td>Intel Core i7-8565U</td>\n",
       "      <td>1.284638e+06</td>\n",
       "    </tr>\n",
       "  </tbody>\n",
       "</table>\n",
       "</div>"
      ],
      "text/plain": [
       "    brand       laptop_name        processor_type          dist\n",
       "165    HP       14-ck0008nx   Intel Celeron N4000  1.267925e+06\n",
       "163    HP        14-bp101nx   Intel Core i5-8250U  1.267925e+06\n",
       "9      HP       14-cf0007nx   Intel Core i5-8250U  1.267925e+06\n",
       "65     HP       14-cf1001nx   Intel Core i5-8265U  1.267925e+06\n",
       "130  Dell  Inspiron 14 5480   Intel Core i7-8565U  1.284638e+06"
      ]
     },
     "execution_count": 23,
     "metadata": {
      "tags": []
     },
     "output_type": "execute_result"
    }
   ],
   "source": [
    "# При поиске с помощью Евклидова расстояния \n",
    "rec2 = skr1.recommend_for_single_object(5, mc_matrix, cos_flag = False)\n",
    "rec2"
   ]
  },
  {
   "cell_type": "code",
   "execution_count": 24,
   "metadata": {
    "colab": {
     "base_uri": "https://localhost:8080/",
     "height": 204
    },
    "executionInfo": {
     "elapsed": 564,
     "status": "ok",
     "timestamp": 1621149304593,
     "user": {
      "displayName": "Sasha Kurganova",
      "photoUrl": "https://lh3.googleusercontent.com/a-/AOh14GiSJJ9sBMDvTOa9RqZDxXruhgQHi8i9eqj-0dxOcw=s64",
      "userId": "06976869838572069954"
     },
     "user_tz": -180
    },
    "id": "6eh5Ym5ZByCP",
    "outputId": "f16268be-9b11-46f5-adef-68b8fe7a9976"
   },
   "outputs": [
    {
     "data": {
      "text/html": [
       "<div>\n",
       "<style scoped>\n",
       "    .dataframe tbody tr th:only-of-type {\n",
       "        vertical-align: middle;\n",
       "    }\n",
       "\n",
       "    .dataframe tbody tr th {\n",
       "        vertical-align: top;\n",
       "    }\n",
       "\n",
       "    .dataframe thead th {\n",
       "        text-align: right;\n",
       "    }\n",
       "</style>\n",
       "<table border=\"1\" class=\"dataframe\">\n",
       "  <thead>\n",
       "    <tr style=\"text-align: right;\">\n",
       "      <th></th>\n",
       "      <th>brand</th>\n",
       "      <th>laptop_name</th>\n",
       "      <th>processor_type</th>\n",
       "      <th>dist</th>\n",
       "    </tr>\n",
       "  </thead>\n",
       "  <tbody>\n",
       "    <tr>\n",
       "      <th>65</th>\n",
       "      <td>HP</td>\n",
       "      <td>14-cf1001nx</td>\n",
       "      <td>Intel Core i5-8265U</td>\n",
       "      <td>2.288947e+06</td>\n",
       "    </tr>\n",
       "    <tr>\n",
       "      <th>9</th>\n",
       "      <td>HP</td>\n",
       "      <td>14-cf0007nx</td>\n",
       "      <td>Intel Core i5-8250U</td>\n",
       "      <td>2.288947e+06</td>\n",
       "    </tr>\n",
       "    <tr>\n",
       "      <th>163</th>\n",
       "      <td>HP</td>\n",
       "      <td>14-bp101nx</td>\n",
       "      <td>Intel Core i5-8250U</td>\n",
       "      <td>2.288947e+06</td>\n",
       "    </tr>\n",
       "    <tr>\n",
       "      <th>165</th>\n",
       "      <td>HP</td>\n",
       "      <td>14-ck0008nx</td>\n",
       "      <td>Intel Celeron N4000</td>\n",
       "      <td>2.288947e+06</td>\n",
       "    </tr>\n",
       "    <tr>\n",
       "      <th>130</th>\n",
       "      <td>Dell</td>\n",
       "      <td>Inspiron 14 5480</td>\n",
       "      <td>Intel Core i7-8565U</td>\n",
       "      <td>2.593494e+06</td>\n",
       "    </tr>\n",
       "  </tbody>\n",
       "</table>\n",
       "</div>"
      ],
      "text/plain": [
       "    brand       laptop_name        processor_type          dist\n",
       "65     HP       14-cf1001nx   Intel Core i5-8265U  2.288947e+06\n",
       "9      HP       14-cf0007nx   Intel Core i5-8250U  2.288947e+06\n",
       "163    HP        14-bp101nx   Intel Core i5-8250U  2.288947e+06\n",
       "165    HP       14-ck0008nx   Intel Celeron N4000  2.288947e+06\n",
       "130  Dell  Inspiron 14 5480   Intel Core i7-8565U  2.593494e+06"
      ]
     },
     "execution_count": 24,
     "metadata": {
      "tags": []
     },
     "output_type": "execute_result"
    }
   ],
   "source": [
    "# Манхэттэнское расстояние\n",
    "rec3 = skr1.recommend_for_single_object(5, mc_matrix, \n",
    "                                        cos_flag = False, manh_flag = True)\n",
    "rec3"
   ]
  }
 ],
 "metadata": {
  "colab": {
   "authorship_tag": "ABX9TyNQZgFhClQ2GwBH6bc7bn6/",
   "name": "lr4.ipynb",
   "provenance": []
  },
  "kernelspec": {
   "display_name": "Python 3",
   "language": "python",
   "name": "python3"
  },
  "language_info": {
   "codemirror_mode": {
    "name": "ipython",
    "version": 3
   },
   "file_extension": ".py",
   "mimetype": "text/x-python",
   "name": "python",
   "nbconvert_exporter": "python",
   "pygments_lexer": "ipython3",
   "version": "3.6.3"
  }
 },
 "nbformat": 4,
 "nbformat_minor": 1
}
