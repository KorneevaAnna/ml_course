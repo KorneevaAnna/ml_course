{
 "cells": [
  {
   "cell_type": "markdown",
   "metadata": {},
   "source": [
    "## Рубежный контроль №2 по курсу \"Методы машинного обучения\"  \n",
    "##### Корнеева Анна Павловна, ИУ5-23М  \n",
    "  \n",
    "  \n",
    "  \n",
    "### Вариант №1. Классификация текстов на основе методов наивного Байеса."
   ]
  },
  {
   "cell_type": "code",
   "execution_count": 1,
   "metadata": {},
   "outputs": [],
   "source": [
    "import numpy as np\n",
    "import pandas as pd\n",
    "from sklearn.feature_extraction.text import TfidfVectorizer\n",
    "from sklearn.metrics import accuracy_score, balanced_accuracy_score\n",
    "from sklearn.metrics import precision_score, recall_score, f1_score\n",
    "from sklearn.metrics import classification_report, confusion_matrix\n",
    "from sklearn.datasets import fetch_20newsgroups\n",
    "from sklearn.linear_model import LogisticRegression\n",
    "from sklearn.naive_bayes import MultinomialNB, ComplementNB, BernoulliNB\n",
    "import spacy"
   ]
  },
  {
   "cell_type": "code",
   "execution_count": 2,
   "metadata": {},
   "outputs": [],
   "source": [
    "def get_train_test(target_names):\n",
    "    '''\n",
    "    Преобразует корпус текстов в матрицу признаков при помощи TfidfVectorizer.\n",
    "    Предобработка текстов - приведение к нижнему регистру, удаление стоп-слов,\n",
    "    удаление редких и незначащих, т.е. частотных, слов, лемматизация.\n",
    "    '''\n",
    "    # получение обучающего и тестового датасетов\n",
    "    newsgroups_train = fetch_20newsgroups(\n",
    "        subset='train', remove=('headers', 'footers', 'quotes'), categories=target_names)\n",
    "    newsgroups_test = fetch_20newsgroups(\n",
    "        subset='test', remove=('headers', 'footers', 'quotes'), categories=target_names)\n",
    "\n",
    "    # преобразование датасетов в корпуса текстов\n",
    "    train_data_raw = newsgroups_train['data']\n",
    "    test_data_raw = newsgroups_test['data']\n",
    "    \n",
    "    nlp = spacy.load('en_core_web_sm', disable=['parser', 'ner'])\n",
    "    \n",
    "    def lemmatize_text(text):\n",
    "        '''\n",
    "        Производит лемматизацию токенов.\n",
    "        '''\n",
    "        processed = nlp(text)\n",
    "        return ' '.join([token.lemma_ for token in processed])\n",
    "    \n",
    "    # лемматизация\n",
    "    train_data = [lemmatize_text(text.lower()) for text in train_data_raw]\n",
    "    test_data = [lemmatize_text(text.lower()) for text in test_data_raw]\n",
    "    \n",
    "    # преобразование корпусов текстов в матрицы признаков\n",
    "    vectorizer = TfidfVectorizer(stop_words='english', min_df=0.001, max_df=0.5)\n",
    "    X_train = vectorizer.fit_transform(train_data)\n",
    "    X_test = vectorizer.transform(test_data)\n",
    "\n",
    "    # метки для обучающих и тестовых данных\n",
    "    y_train = newsgroups_train['target']\n",
    "    y_test = newsgroups_test['target']\n",
    "    \n",
    "    return X_train, X_test, y_train, y_test"
   ]
  },
  {
   "cell_type": "code",
   "execution_count": 3,
   "metadata": {},
   "outputs": [
    {
     "name": "stdout",
     "output_type": "stream",
     "text": [
      "Wall time: 1min 30s\n"
     ]
    }
   ],
   "source": [
    "target_names = ['comp.graphics', 'rec.sport.baseball', 'soc.religion.christian', 'talk.politics.mideast']\n",
    "%time X_train, X_test, y_train, y_test = get_train_test(target_names)"
   ]
  },
  {
   "cell_type": "code",
   "execution_count": 4,
   "metadata": {},
   "outputs": [],
   "source": [
    "def test_classifiers(classifiers, X_train, X_test, y_train, y_test, target_names):\n",
    "    '''\n",
    "    Оценивает качество работы классификаторов на тестовой выборке.\n",
    "    '''\n",
    "    for clf_class in classifiers:\n",
    "        clf = clf_class()\n",
    "        clf.fit(X_train, y_train)\n",
    "        y_pred = clf.predict(X_test)\n",
    "\n",
    "        report = classification_report(y_test, y_pred, target_names=target_names)\n",
    "        \n",
    "        print(f'Classifier {clf}')\n",
    "        print(report)\n",
    "        print('-' * 63)"
   ]
  },
  {
   "cell_type": "markdown",
   "metadata": {},
   "source": [
    "Все классификаторы будем использовать со стандартными гиперпараметрами."
   ]
  },
  {
   "cell_type": "code",
   "execution_count": 5,
   "metadata": {},
   "outputs": [
    {
     "name": "stdout",
     "output_type": "stream",
     "text": [
      "Classifier LogisticRegression()\n",
      "                        precision    recall  f1-score   support\n",
      "\n",
      "         comp.graphics       0.93      0.95      0.94       389\n",
      "    rec.sport.baseball       0.86      0.94      0.90       397\n",
      "soc.religion.christian       0.92      0.90      0.91       398\n",
      " talk.politics.mideast       0.96      0.86      0.91       376\n",
      "\n",
      "              accuracy                           0.91      1560\n",
      "             macro avg       0.92      0.91      0.91      1560\n",
      "          weighted avg       0.92      0.91      0.91      1560\n",
      "\n",
      "---------------------------------------------------------------\n",
      "Classifier MultinomialNB()\n",
      "                        precision    recall  f1-score   support\n",
      "\n",
      "         comp.graphics       0.94      0.94      0.94       389\n",
      "    rec.sport.baseball       0.96      0.87      0.91       397\n",
      "soc.religion.christian       0.79      0.97      0.87       398\n",
      " talk.politics.mideast       0.98      0.84      0.91       376\n",
      "\n",
      "              accuracy                           0.91      1560\n",
      "             macro avg       0.92      0.91      0.91      1560\n",
      "          weighted avg       0.92      0.91      0.91      1560\n",
      "\n",
      "---------------------------------------------------------------\n",
      "Classifier ComplementNB()\n",
      "                        precision    recall  f1-score   support\n",
      "\n",
      "         comp.graphics       0.86      0.97      0.91       389\n",
      "    rec.sport.baseball       0.95      0.89      0.92       397\n",
      "soc.religion.christian       0.90      0.93      0.91       398\n",
      " talk.politics.mideast       0.98      0.88      0.93       376\n",
      "\n",
      "              accuracy                           0.92      1560\n",
      "             macro avg       0.92      0.92      0.92      1560\n",
      "          weighted avg       0.92      0.92      0.92      1560\n",
      "\n",
      "---------------------------------------------------------------\n",
      "Classifier BernoulliNB()\n",
      "                        precision    recall  f1-score   support\n",
      "\n",
      "         comp.graphics       0.84      0.93      0.88       389\n",
      "    rec.sport.baseball       0.64      0.94      0.76       397\n",
      "soc.religion.christian       0.83      0.70      0.76       398\n",
      " talk.politics.mideast       0.97      0.54      0.70       376\n",
      "\n",
      "              accuracy                           0.78      1560\n",
      "             macro avg       0.82      0.78      0.77      1560\n",
      "          weighted avg       0.82      0.78      0.78      1560\n",
      "\n",
      "---------------------------------------------------------------\n",
      "Wall time: 708 ms\n"
     ]
    }
   ],
   "source": [
    "classifiers = [LogisticRegression, MultinomialNB, ComplementNB, BernoulliNB]\n",
    "%time test_classifiers(classifiers, X_train, X_test, y_train, y_test, target_names)"
   ]
  },
  {
   "cell_type": "markdown",
   "metadata": {},
   "source": [
    "Классы в исследуемом датасете сбалансированы.  \n",
    "  \n",
    "Наибольшая точность (Accuracy) - 0.92 - получается при использовании метода Complement Naive Bayes. Чуть меньшая - 0.91 - и примерно одинаковая точность у Ligistic Regression и Multinomial Naive Bayes. Наконец, худшая - 0.78 - получается при использовании Bernoulli Naive Bayes, причем точность значительно хуже, чем у остальных методов.  \n",
    "Аналогичная ситуация при оценивании f1-score по различным классам: у ComplementNB и Logistic Regression значение f1-score для всех классов не менее 0.9, у MultinomialNB значение метрики для одного из классов уменьшилось до 0.87, а для BernoulliNB все значения f1-score лежат в диапазоне от 0.70 до 0.88.  \n",
    "  \n",
    "Для достижения лучших результатов можно воспользоваться следующими методами:\n",
    "- более точная предобработка данных;  \n",
    "- подбор гиперпараметров моделей."
   ]
  }
 ],
 "metadata": {
  "kernelspec": {
   "display_name": "Python 3",
   "language": "python",
   "name": "python3"
  },
  "language_info": {
   "codemirror_mode": {
    "name": "ipython",
    "version": 3
   },
   "file_extension": ".py",
   "mimetype": "text/x-python",
   "name": "python",
   "nbconvert_exporter": "python",
   "pygments_lexer": "ipython3",
   "version": "3.6.3"
  }
 },
 "nbformat": 4,
 "nbformat_minor": 4
}
